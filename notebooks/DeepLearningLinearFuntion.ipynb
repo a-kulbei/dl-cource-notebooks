{
 "cells": [
  {
   "cell_type": "code",
   "execution_count": 41,
   "metadata": {
    "collapsed": false
   },
   "outputs": [],
   "source": [
    "%matplotlib inline\n",
    "import math, sys, os, numpy as np\n",
    "from numpy.random import random\n",
    "from matplotlib import pyplot as plt, rcParams, animation, rc\n",
    "from __future__ import print_function, division\n",
    "from ipywidgets import interact, interactive, fixed\n",
    "from ipywidgets.widgets import *\n",
    "rc('animation', html='html5')\n",
    "rcParams['figure.figsize'] = 3, 3\n",
    "%precision 4\n",
    "np.set_printoptions(precision = 4, linewidth = 100)"
   ]
  },
  {
   "cell_type": "code",
   "execution_count": 42,
   "metadata": {
    "collapsed": true
   },
   "outputs": [],
   "source": [
    "def lin(a, b, x): return a * x + b"
   ]
  },
  {
   "cell_type": "code",
   "execution_count": 43,
   "metadata": {
    "collapsed": true
   },
   "outputs": [],
   "source": [
    "a = 3.\n",
    "b = 8."
   ]
  },
  {
   "cell_type": "code",
   "execution_count": 44,
   "metadata": {
    "collapsed": false
   },
   "outputs": [],
   "source": [
    "n = 30\n",
    "x = random(n)\n",
    "y = lin(a, b, x)"
   ]
  },
  {
   "cell_type": "code",
   "execution_count": 45,
   "metadata": {
    "collapsed": false
   },
   "outputs": [
    {
     "data": {
      "text/plain": [
       "array([ 0.7751,  0.152 ,  0.9242,  0.8079,  0.9868,  0.6817,  0.4245,  0.1403,  0.0863,  0.0435,\n",
       "        0.9433,  0.0061,  0.6681,  0.1758,  0.1082,  0.6293,  0.1694,  0.5487,  0.0044,  0.3634,\n",
       "        0.2501,  0.1902,  0.6931,  0.3134,  0.9977,  0.8537,  0.9068,  0.5717,  0.4492,  0.5109])"
      ]
     },
     "execution_count": 45,
     "metadata": {},
     "output_type": "execute_result"
    }
   ],
   "source": [
    "x"
   ]
  },
  {
   "cell_type": "code",
   "execution_count": 46,
   "metadata": {
    "collapsed": false
   },
   "outputs": [
    {
     "data": {
      "text/plain": [
       "array([ 10.3254,   8.4559,  10.7726,  10.4237,  10.9605,  10.0452,   9.2734,   8.421 ,   8.2588,\n",
       "         8.1306,  10.8298,   8.0183,  10.0042,   8.5274,   8.3245,   9.8879,   8.5081,   9.646 ,\n",
       "         8.0133,   9.0902,   8.7502,   8.5706,  10.0793,   8.9403,  10.993 ,  10.561 ,  10.7204,\n",
       "         9.7152,   9.3475,   9.5328])"
      ]
     },
     "execution_count": 46,
     "metadata": {},
     "output_type": "execute_result"
    }
   ],
   "source": [
    "y"
   ]
  },
  {
   "cell_type": "code",
   "execution_count": 47,
   "metadata": {
    "collapsed": false
   },
   "outputs": [
    {
     "data": {
      "text/plain": [
       "<matplotlib.collections.PathCollection at 0x10df29910>"
      ]
     },
     "execution_count": 47,
     "metadata": {},
     "output_type": "execute_result"
    },
    {
     "data": {
      "image/png": "[encoded data removed]",
      "text/plain": [
       "<matplotlib.figure.Figure at 0x10dbe3ad0>"
      ]
     },
     "metadata": {},
     "output_type": "display_data"
    }
   ],
   "source": [
    "plt.scatter(x, y)"
   ]
  },
  {
   "cell_type": "code",
   "execution_count": 48,
   "metadata": {
    "collapsed": true
   },
   "outputs": [],
   "source": [
    "# sum of squared errors\n",
    "def sse(y, y_pred): return ((y - y_pred)**2).sum()\n",
    "# loss is a math function which should be high if ur guess is bad\n",
    "# and it should be low if ur guess is good\n",
    "def loss(y, a, b, x): return sse(y, lin(a, b, x))\n",
    "def avg_loss(y, a, b, x): return np.sqrt(loss(y, a, b, x) / n)"
   ]
  },
  {
   "cell_type": "code",
   "execution_count": 49,
   "metadata": {
    "collapsed": false
   },
   "outputs": [
    {
     "data": {
      "text/plain": [
       "9.0102"
      ]
     },
     "execution_count": 49,
     "metadata": {},
     "output_type": "execute_result"
    }
   ],
   "source": [
    "a_guess = -1\n",
    "b_guess = 1\n",
    "avg_loss(y, a_guess, b_guess, x)"
   ]
  },
  {
   "cell_type": "code",
   "execution_count": 50,
   "metadata": {
    "collapsed": true
   },
   "outputs": [],
   "source": [
    "lr = 0.01\n",
    "# dirivitive of the lost function with respect to your weights\n",
    "# d[(y - (a * x + b))**2, b] = 2 (b + a x - y) = 2(y_pred - y)\n",
    "# d[(y - (a * x + b))**2, a] = 2 x (b + a x - y) = x * dy / db"
   ]
  },
  {
   "cell_type": "code",
   "execution_count": 51,
   "metadata": {
    "collapsed": true
   },
   "outputs": [],
   "source": [
    "def upd():\n",
    "    global a_guess, b_guess\n",
    "    y_pred = lin(a_guess, b_guess, x)\n",
    "    dydb = 2 * (y_pred - y)\n",
    "    dyda = x * dydb\n",
    "    a_guess -= lr * dyda.mean()\n",
    "    b_guess -= lr * dydb.mean()"
   ]
  },
  {
   "cell_type": "code",
   "execution_count": 52,
   "metadata": {
    "collapsed": false,
    "scrolled": true
   },
   "outputs": [
    {
     "data": {
      "text/html": [
       "<video width=\"500.0\" height=\"400.0\" controls autoplay loop>\n",
       "  <source type=\"video/mp4\" src=\"data:video/mp4;base64,AAAAHGZ0eXBNNFYgAAACAGlzb21pc28yYXZjMQAAAAhmcmVlAABQ/m1kYXQAAAKgBgX//5zcRem9\n",
       "5tlIt5Ys2CDZI+7veDI2NCAtIGNvcmUgMTQ4IC0gSC4yNjQvTVBFRy00IEFWQyBjb2RlYyAtIENv\n",
       "cHlsZWZ0IDIwMDMtMjAxNiAtIGh0dHA6Ly93d3cudmlkZW9sYW4ub3JnL3gyNjQuaHRtbCAtIG9w\n",
       "dGlvbnM6IGNhYmFjPTEgcmVmPTMgZGVibG9jaz0xOjA6MCBhbmFseXNlPTB4MzoweDExMyBtZT1o\n",
       "ZXggc3VibWU9NyBwc3k9MSBwc3lfcmQ9MS4wMDowLjAwIG1peGVkX3JlZj0xIG1lX3JhbmdlPTE2\n",
       "IGNocm9tYV9tZT0xIHRyZWxsaXM9MSA4eDhkY3Q9MSBjcW09MCBkZWFkem9uZT0yMSwxMSBmYXN0\n",
       "X3Bza2lwPTEgY2hyb21hX3FwX29mZnNldD0tMiB0aHJlYWRzPTYgbG9va2FoZWFkX3RocmVhZHM9\n",
       "MSBzbGljZWRfdGhyZWFkcz0wIG5yPTAgZGVjaW1hdGU9MSBpbnRlcmxhY2VkPTAgYmx1cmF5X2Nv\n",
       "bXBhdD0wIGNvbnN0cmFpbmVkX2ludHJhPTAgYmZyYW1lcz0zIGJfcHlyYW1pZD0yIGJfYWRhcHQ9\n",
       "MSBiX2JpYXM9MCBkaXJlY3Q9MSB3ZWlnaHRiPTEgb3Blbl9nb3A9MCB3ZWlnaHRwPTIga2V5aW50\n",
       "PTI1MCBrZXlpbnRfbWluPTEwIHNjZW5lY3V0PTQwIGludHJhX3JlZnJlc2g9MCByY19sb29rYWhl\n",
       "YWQ9NDAgcmM9Y3JmIG1idHJlZT0xIGNyZj0yMy4wIHFjb21wPTAuNjAgcXBtaW49MCBxcG1heD02\n",
       "OSBxcHN0ZXA9NCBpcF9yYXRpbz0xLjQwIGFxPTE6MS4wMACAAAAVvmWIhAA///73aJ8Cm1pDeoDk\n",
       "lcUl20+B/6tncHyP6QMAAAMAAAMAJAL8x7+hB0M0IAAAUZJKVJJiIkZgIbD/nm8VLeuUs8YFeQbQ\n",
       "LXxMPv0U4AHePF+N3PLwzisidekW+COe4pLKSgHS8BJOuNMvYUwUpzrdhvQXwi8cR4hPEdr8WxX4\n",
       "ZR7EmJ/5YK4/nLEh6j11hSIrlUlGpBtt0neMf0Ls2ohkzTrE3Hx7adXNBfHeaeekBztjQr3Dzdz3\n",
       "VcR0fcw87Qk0TGtXL7M9FomvcG8VsjxJJdbmG/WgQeP7VOaaBQrrx0oXKN2u3O6JtezP2QWJochr\n",
       "P/AZT2JY/qkRWHWkk3oST5g44jX2MGGIGdDoCoNCAG+Lpmzi8ZJy0MU2BbEqlbp1GPuF9Bjq2bCI\n",
       "uJ4YHn2RVGc7sbSWGqjfsy6VO5sLY8m+p6liQIk4D8VdZZWdJAZeoneZqAPf/JefuXgYEYT6mp8y\n",
       "FoYl5UuH4wiry+uDRJ/Q36lxoS1+j/46F/V1arAGkUnnH1rW+EDRmsmjMHh26TVQhPH1nXg9iYTY\n",
       "Sn8fcp7rr0gZb8s/eZ1a9tfsNtjRF6FKYH+mWk/rBzAAGnPWycJTgWE9O/2ZWQ0Hop1+fM+2Pjin\n",
       "C5X9Y4YLkZEiZgOIsYec6Ewje6zNOMO8WFyLuW/MWd8hKQc/dTXgokKvh2frITM+ZX5EJq7LPklS\n",
       "k9puPWka6UI+QhJ5bjDLw265pD5HH1HESW+SI/1OUrSGilCgoqUFK3qkpfofsjRsMhetx0PNiWHS\n",
       "mlae6RacNJniSZYR1bYS1cgaMQ91JpwH/L7gPbeksrOyTM+VgRZyywE6yx+iZev+O1gxkx9H3aAN\n",
       "w7jXGNvzGwm4ta9s8Z8f02qZgJC3ZCRSEGlRpn4FUzm587G7WJI6vQv3JcXYDfHqsFbAssddPYRD\n",
       "nRtr7/DXsGcevtzS9/gBg/BbuH7dmP+lYvGQ4vOpZCgf99k9CJBIC5y2onqndrecgwhGOKs7DfC/\n",
       "2mNuc5NqS7CP3/NCCPjkAxB95R1Zk6st+Cf4TfNkbIq5QVY/p/jGSTARfTFBdoN2smh/HkgXln8e\n",
       "uJYxRY1veu+P+CNHzCvqLMyhU6fydHkXidFUHCPiJIdAE9eQClMtLdQqlr0R4KX70P8U+fnIxNzj\n",
       "372Pvtdf8zjzBG2b2BtEAisn5gfBsvt1lOHvsxylDdJpjAizPb0EO4r1NEFFvFxuZQBn5/YJGTwv\n",
       "o76RaIM+Dw/3ZhpZfPr8hUcrMSXL/n1o6wq0txQGU0BlcQ7C/QUvNN4arIrwe+77LU9OYFlGqpPJ\n",
       "o2d90RgRedZ47sxh7gSmhLKJlaMTC3jj35Cz9eTaXrVgBfwZ0QGrKDgIEV3NQ40JWwmfcFcIt5qI\n",
       "0oP/WoYJ0jGzKqarVP7qUcZcCza92Hlb/IMLr6OVSG4bBGsYO/OBaek86/CNRFgCHwWfK9EApAfi\n",
       "R/MX83jiuoBCNPUUUq0v6qPpMbdE81idemwjLmPDQE/s3AcOLwyrD2wOmKtWfGGxc/iT5gkaABJH\n",
       "aZWF/eHo0IsZvzElktkpaP8MMFKfsbo+KMSCpz2xh0ObsnoaGee4ACyc49gDdYUZwASMIBoQsp4z\n",
       "CPLCstlTS2iRcD47X/TMN8qjr18Lp+5io69TR+WobG0oZ6dO7nHaUvs2fRxvwY+146eXwCXaAwa+\n",
       "SJeo/3SxfpXfCa+quCZv9eRD52ec/2svkrcveWk/aleZvRV5Glq1aCPQllWZM81nCuRSWNj0xtX7\n",
       "hGRg8D6qqu7JF+3U2lmKEIEInhrPdcEjgNmPhVo3gRnbcgDuhE0jjewGaT2oyFefEnX6QrKMc8AZ\n",
       "tf6TUYmM9PVBzgexZImojHajnVhnTlA6b+lbNLDQFaRej/+cn7YkjJR6vcdiVzD/8YsW/NWGUQxP\n",
       "NOPXJLzd5+b/AD/RwZhqTW1iIKaMVuRbaBB/ObUFJ7io129NPPe7ArXKC4fjOHwKKQOifSee2jwP\n",
       "gDxV3dey4lSr53qv7kZccaHO4arVp1wbqx4rkcJS9Rqer2OP/alU8cRDLaqxb7/6DZJ6t6z/bo0F\n",
       "/ZMn4E+nxydzlmerJLUol6aU1NZ8BdQJXckeDVzzZtRmcefUYiO2dI8ncuQE9vf94XWtWm8jq0IC\n",
       "Ct+4zE79wallY/fopxnbXyQkGspHIEVB3ynse4RdC4IoPs67xN88RPwTvnE0h5Ntks+398jDfez5\n",
       "BlyIgaaWDG0gJlCT+CBxhfVspQkJBOJ0DzWRjpFV5+GeXfvHGauCWcQcqF37FvzapvaGlVCFb3wd\n",
       "aj+/7uT/M3hzwegQ4o+aCtOF9SWWHlJ9VW0rjPbqvXL0G3yM1wERq80Yrp0wNHVQLEBLsOCA05i9\n",
       "Jg1WoAr0LVuT3UJEm3xL6zI3B3vk0wjoxDGLEuHbhMG2D0mRI79Sd43FYZhshOr51cxDxqEUQYYg\n",
       "VAUdNayAgbj1FsAKBbzOksKSoALH4HJVOPNnmleELr8uc0V/lvAz+8WHcrcBd++i1EY9BJez9aHA\n",
       "pmvU1pKA7k7y3oozLbNV6z+H9F/HAk8wAeNKmAV0PvL1Dib2T5rN2rojzISeqjjnNYEENsqjceBR\n",
       "RnnDBuDPyBFzbFPhPe4q0UjrDD+j3Y/gNj7dZCcS8moz85Idi077AFNXA1dtVDGxgvd5o3lzClvc\n",
       "OWf9kn6HN/zrZD5HGk4r3oBIHJvi6ORJKlI+GLG73/OQKhcUNuInow2SNAm/KrFJ7CSSUO7eSgcs\n",
       "V+TmBtrG8fJuTMjVnE1CMJbHtV/NOxwG3ncGyWN2UOoyqwRw3CPkO7WY6WUcrVk33XHjNmSF61Nc\n",
       "Ue7ueaqSWTAfyQEb/zhr3D/aryMh9R80oFTH18b3zDPXnz+39mlK0aD1Hg3Z3CqNERlleAM2Nnie\n",
       "A1TP+3ecx9ZfTeuIVVpP84RWDU1KUwKWKlfwW4rWmOF7kCrUbW8bTe08WWQtPMqX9QejiK8KQ/20\n",
       "4MtaSFP38AtLi48m6c3+bo8maFvk1T0OxEEJ5vhj8XlmS0dh65xe4K2kkLyjauj+V9v3uvpofr9U\n",
       "ylrGvHEIYNtwPRY1tTdsN2kNqAGx8M4HeQewjJHT8PjYUFAIN5SLPgH1IaYZ15jOnpHW3Nyo71Xq\n",
       "Q03PDIVAIKLqYEomlPaUSaEuJtTz5DxbI4zpgLKW2yEbMaVpznmKx/gaJIxnK4rOtAP58xVmIA/S\n",
       "C4c3DdSC3GlziogHv5xLdj32BRqfKOH+4NL5zjQBEkjup/3Dl+Nk7M3OlLML2rqP0I4cpfzxgZUz\n",
       "gjpd6OPPVVJ9PURxjnp7SbFfNrXVOBy2TVi8VqszC1YvLNzBem+Sr5/+SAK0VKWeQQLFFO4LzGxK\n",
       "jao0+/B9w9sq6IAW1vDHwcANd7grLSU4wOYPKFT8hz0a8gV7jgeBVKXZpjmNpeAYeU5JiYuulCTC\n",
       "6agS9XmvbzkQyVZs4XHdF8Bao3FS0xmOhWHCUme0usmFOwKA//mabeLakqey7hBXFVa+B7oMiBRZ\n",
       "V0h4LxsTUdieacEojVtX53q7LvE/deC42o2HPLEf2u/fH3XQMGUoxLIxj/ouCZ4qd25bXgy9uZwD\n",
       "VbyzjHMGOgpQ+3vE1QAzMKWC/7VUR4INAtf3qxXO7axJCl3pzTaZLgw98EIzGuWZADZMI4Ppkkdx\n",
       "g9AIs04xTVJwpoZKozPdQGKrIUa7wwtR2lUgAXPdy6zTCWsUAvqq6IIN0SQJoxU73cpIGYqSAYLd\n",
       "3cTZVj/F8lnhRWw0yky3RUIErbwrH2uV9ssxc6gZf3LjHHjIcqm2ATAZhNCXe4FC8+NEUNVabp0+\n",
       "v8cQYHYNV60i+gJagACGgWhZbt7JRZlLS6xCn67aUOSsNMvdA2HdiNi92EwJaAIFDbCYnPwguhVa\n",
       "Zk235xDFqyk0sIaupEQLRGYR7imMNBsDOnoAExqkeuGDzonzUbimGXyvdfTjogs1+CUibDBsC91g\n",
       "PvcUm3+DDwqfDir8xB6z0H2o7D9CJpWvLc/jWAZNXj/0oQ2jwOF39x3E4Q2a0bHLeF6uvlywK6j8\n",
       "2Y/mZFb/OmUhRNk75Hrxhv+KEFl2SnofBk9+dyxi01wtf8x679kEBLe3YuWUu5K/l/lvqTEvvawD\n",
       "AeZES1jXkIyrTuc31r7O3b7NpkGeZTfUv4Te+7RWr5lkaiKZaH/GSLSQJIhLyYPKoBNkCEgwzIRS\n",
       "F/mom9X6NVTLQBjn4lmBqCJxbs+68Dxd1PV+Uznh0cUvDz9UPGQAjzYCwbyUcgAZ9F7vbDeHibvx\n",
       "XP9h26z+MOxX2wlsu/Z83BkOPqI1UJBuBWRHL+AErvqTSkf4EU+90XB+ft/pO+v84aO0gfMnCAzm\n",
       "i/TSXdhDUQlm/oRIY8IoJm/dKli2+imvhYWNwScnfnDEPZxWJSd+tkyBlLSnJdoy9Uo1+azP9i8x\n",
       "4AZZWDm0WlCNqdPF/H2NqlykYS0A4cjYVJ7+lQ+sleqPzTYphDvmC3hEUJ9LDHKOOkEUZcnEHl6R\n",
       "F3rqjhFXmdkv2Qk9LbYa/d/GUtCfjZh/sg9e+zn3NwM2Um+orEA7uMfxzL7/5NL6DgmiIG6mRYS1\n",
       "dsxUjWwYPOZnmdjEpMbyoVeYw5v0sB8ViYBHue1JRWCohn76WFn48W31ZtSATkYamq4T9Lk5c4Vy\n",
       "GLwf0v1Qz+2d6xsME8/KAyT3LWNcwx+mMXPRDxhqZ7yee3kyfbrUGgXy/QjH5Dp3HCGYqeXn4KCv\n",
       "zX65yKoOYjZYFTllY1R4FvulJhrsDEuQdQux6OV9nqXUTknIE45XwgAcRkCtkxB3/IYseAAIhQT7\n",
       "67AvF4n8wjv9DGG5eZ7Z4BpYnIFQP9ljJBzjis6Pt8LYWE+eiblUu7UWHumE+Cgguv+txEIrKwxt\n",
       "xePVAjKq7Q6Qf48obmKv3sFkiFL4ifhM3Fm11WKJbwDhhOxQQbG97EoI1fDAI2P5EvkNxRJ43RHa\n",
       "pgC60ZTJU6rT/RmNnEAhsUwhokIVHEDul0epp1KWcKwlxzujHROcSzZ/N/llDtx59fYpMzBwYDlM\n",
       "v9yb3IEIQuUL0L2z9qCnkNHmUz6DyDIP32zgEAVWivBblKkbeoKam2IZ7Z13USvq1OqIEJnHYoM4\n",
       "b//qY3pIzugiqLWcgW78MGJYvHzorymAYjG5T+Y6zoEUY8fdvyCxUzuQCZFDUin5uikvWW3YK9D3\n",
       "r9zrruwRLgqSWQEhsVYKxHEl2QYXdiyC99TqU6wavYR6oM+dwtxFWgNS77Bc8iSI4hTdiNLHAifG\n",
       "3YtcMEkYrVcWL9iNqwePEJ1Nq5otLcXsuwrGtUd+tsXLlFNuMxs4I7sFarA0XezBJvRwcr5bEAw+\n",
       "7jszvxtK/wJog97hE8GAQEwLwwhuSYAcJq/htdp1timX5tf6GTz3O/YraaiqV8em2BH9M2pI6x+F\n",
       "P/OC8/TeP3sdx931ztD3kz0ZGdovQWzIu5W5YuX32N3efGJYD/b5/Yz172SCEZqvgj0YiR1YN0Ai\n",
       "X2osEW7sc8u2SZB37pleE0opNMy7cFPPai4jc9vT4ocW15gGA7EE3zei0nm7n4ZYKjAWHemwz//c\n",
       "BFW27XiPnfURXVAhvWu7SzmURv2JVAbLwXNKeONZw2H/NtwUFu5nuzeDeWPn5+sm2V6mQYRaqgTW\n",
       "EH+Sbpx1ePaQ+noNg5Zb1Sx1O9ko950NjMzHsfRbByIHhf/vmOljIQKr1Xbeym41zeEpaOxh7dp6\n",
       "8RASHe7L8M+id1AIAInPB4SIjoViYvsgsq6V7vlqecrB92aOIk+5pBdzTNZOAU37ru/3DuLZY5Z+\n",
       "vxzcDwaTihPbhPQ4iq/H7ZlL5jSK4sEhQq6YhVElR6b4NhHbNxYWZ3YoHkwYzyXW32V3p+dJGXgi\n",
       "BDzQl3WNJ7OxA2fPu4nLD2pJpUb1M6h6TGy8E/U8sBo+u2vDSi1uJM2xLbBzPFsPBHMoLOlp6ccD\n",
       "psTAFBW0gGkjV4qzFDzEDxqLO14WQMhLSTo22FXKA8L98vcE/B88FCGyMFkiR3kAPwpzY3xGiN0L\n",
       "H9lIgTx/7o/g4xPaHc37MRUja40w8rldJ/ug4xzEZxENmIVVpeZ7tdzhvBnMW6XqrrnKLBsV0KqR\n",
       "0bzd7yYRxSHwhA9rIznZuOEmNAPIvs/x6/uRyWsTJBAKQRL7hH8PcuS4zXwy3yu/uctXC3X1J/4U\n",
       "Qb9oz3yYczLghsQWD9FbgGzZkJht4eBvqRcHLUtliWWpPPVs+wp1QZACpzIhm6oBARXyl7LijmvF\n",
       "6zKnzaZNFwRrsh0rJyp0OWGbtlCw2IDWVjsvhH/x2u0vt0wVumfd29OCRXz80L/11y9X2GgE8o7D\n",
       "7Q0t2MV7Varok6FttHuNJcdNOU9ZPkIL0gfP5V9L5Np3wmJZfDznS9FYU370s4EIpT7XdZuUX6sc\n",
       "5rwQRsTz5R4VJsfojLUJ3zi7jSFJGc8LJmUPoT2mr4FE9EiguYkXyU2hRy4k88S0fqD9JtmdbT2K\n",
       "ihGMvZN6Zfri0hnedtpoQ4bdDiNBEJbWEgGA2kaWkcGaQy5EjsxE/ezNs6+NAyuC7xrk8VCeREwv\n",
       "G4gH/l5zcSQnHUeR01oUbUzgJLu3OviRpaboyE7ICyD+k9keHkoZ54vUkUn6jX3QdHY3jBMEfGA7\n",
       "yRe+GPhrUf82JIrI/baZIcpGj4FvhK0ai4Etuj1dd7qxJQESZVyx9hjpwUvARh7XKgV9MyLeO9tv\n",
       "6XJ0hrxvOKDq9z9K8WZKbmDATIRh2brkFtWuuWnB8yy+ppEaz5vGXhs+WHjqv1RQtrS4efKZAmWl\n",
       "ynWB30zDgFjk8zI6b/mFq3HO/HVHl4OMN9kLag+1YvJVPrNyEfYJe4pb6xlVkZlAy6cFkFPkdz4c\n",
       "nKaJOvOotK32G2/LNb5TNVIdEncniBXAHMIIBkZbRkB49x6psLLPhC5XLYAqv5UJZMhdIu0xi1RF\n",
       "BCgPROL/NMUhbOULZf8HzH0FW2Xnf2otUzTOWIDhSAAUoFL5OizNYIj1NiixnAGHRl+N+iwghyAK\n",
       "84LUYgipcrRgkNRU9HqYz4iNqkNNLMDEP0HO1ezYcTkIOMiC98Y8GV5nQX7WuhNsODPIh8PN/GvC\n",
       "UzgPO26Xy8ZfDqJJFD7MFbuxXUqT/yRPiYcKvrO1ZxTvj83voEeQnU6zL3e/+sTV2rVovhCwv9o7\n",
       "gAMSnoNM7IuCY9GhnjvbFe27/voCB4lWZ4DoSAqkCFtb8ppBt/dztVw9+qewPa6kJeLtFxe0d90T\n",
       "tAfSrdkqmo7r8ooFvZ6bQVs3VuCrou0tfG73G6Jtf1MYcIPYN9QYkUNZbzgke8qNn0N6HdjrCgo2\n",
       "dIz8+RYYhhEETZ3MOz4f8GDsHkmE7Qo6H0wH27Vm7dNyCiPsYSp3vd05mcjNceTJMmhUpZjo3a/Q\n",
       "AABwfJgxJdHzLfM7cqzauJgAn4EAAAPmQZohbEEP/qpVAB6GYQAGxHJP4KFe9+18pnJavrrL+4Sm\n",
       "TifyxbjJp2Vhz4F/MhiM4hfFW0lppLT6TxJ3eX+uFSY2xk8EBGqo12ihUftemEPeqUQkZGEQCpUB\n",
       "Zn7SNcwd1fh14ZexV1lJPbJxZcO00LvUqByrnnfZQDR1c6fxAt7WGDkU3z5bDQPSHiREblXDTKuv\n",
       "JDNHTYj6VYD5Wgr+dYN9VyTxn19w9xocaTNmPD9zgyTBbNnGsWvJc346r/O16UfuYTUjVKL5JJ0A\n",
       "T5I0qskDOms09UrgexzjHR7/SRcv/ItPcK/ni/cLYtYU3ao0n8k8miHMiHCJok4zr215kiDy+4vI\n",
       "iGnVU25qTXktKKMPXBRXmIsDKNkUB2Ymih6qnx4dacAwpJPtbGSC+NtlWR2ExrOgWri7oi4UGWZw\n",
       "gGby8JFCko3HFSFNbLjAdAhVD///WOZ/StNZgfBv/W3qL0y3bOabqp3CaXw4TGLiD2NKvMY76awD\n",
       "xD7lfyez5r/y039B4W5dDgtYv2lY53V1aXMnpJsykX1U+BNkmNgLFI2UZsgg8JNrHD5zy5qTNp9r\n",
       "Ie26HHIwcu3yFHSruB7r8AlX189NHId7cvOc72qZJoDQWED6APqWdFaSxRf1PDEu/ZuvoIlhcWMB\n",
       "9H9YLm0SZseuUTB/jn+5rv/fqffcqfSXVuXBHGSdd8C5HJI/nevgFOehzKXujO8VkUY7Hakd5ikO\n",
       "Ux2Qxlc0XnsIJQtdWBG6OpiYvbznmFjdkNzH2EKxL+n+H8TUiM5cmHkh/k8LIM35d475WcUuWa+c\n",
       "NFZQ66k+xVHWgw5m3+Gpt1YrlJGxemond2HprB3oZa1e62Dp1aKg4vfjsX4Ki0ajokddeLNU64UC\n",
       "KOYwPtTJcEMrZIUZzR59P6OGb4O6/atBCEr5EqHhkorCKECa4OLYfZqAjM7Cmxbdidse5/VcDDMc\n",
       "ejtRB9t9I7kPxkd/RlMBaHcJAW9/flILlPQdeMQk7Jr3EjJbheVXD2YCk4dOUvXO81aisWYrEJpj\n",
       "inhQ79EccHeqSgo0seHfQnP6g4KAk84kfoE6D8d3djfNUTYrPu25XWj9sIqdhE0HU4GQuMzD5K0c\n",
       "0YX9opbwHFemGMH3zbZyl1y59P7uyxRjuvSEH0h9ukNDOe0Bwh9Ap1sdrT1duo6B2anMPsZAtx37\n",
       "OiIpAJmyJf1ZWVwB0CpL9blhGrnxNItRcM8N8xQES+5MyiAYCGlZGSH7IrNV/dnp/XoABYfALY1Y\n",
       "Qlduos4E7Ze56mPVxx3ZfvKOZsZYl3A3sVz/OuD+F7I6tPT2zqS52AAxgqeMq+W1TZ6lmWcAAASN\n",
       "QZpCPCGTKYQQ//6qVQAE5+Q5VtVT4fpvKXlARm+cHgkNWvvquUYtIqBZ1MYEI5E4E7WlgK6gd8vv\n",
       "QZr3UZOD2cgqMNuw+z75J8NXW793/Mk7RlYuoF8A4DQDoRMpjPUJXmSwZzFSkhSbTb+VzVFy6Jms\n",
       "lzR4x2NJ6eTFmCDTfVJxQtpy7AVn76U/eJfqzspVWo5Tc/J5sxybZPhAdkcirYB7WN/15FrzPd0F\n",
       "BNL+FLZYbFvS/YIRraRSLL6PCeAx7WrgR3bbODFuI4zUOXeri8DDDiHBcDiZ90nProtkOz1BVfGx\n",
       "1R2bM613sYln/exMKCJCFrbjslHmxSi25YUkafbdi51a72Mnb3fQ4lRLeIXJFVlGIAsVhbVCT1qO\n",
       "xVVBVD6gsea95El3N8GGypwyyrdAdc0HDbZXzxfLNBK8PajwxmDrogaH40zGG0aATjmzcVnrBQ4n\n",
       "uyVRop99juaMVU0C0q99VM26PeG0c4YOfSxXhpsrgvBGtojR4uEual/LLHaZo1kcchd68auHzZws\n",
       "C8VpvPgNn5xks6cK3nOU3IZEfdXQEIEWxTg6nijDf+B8jTS216s9GPAf/vrXmsTiS7SLj2QJk9Vy\n",
       "khe80f5zMKFABMsjqx1H/Q6MIKcRmuu0jBapqfiPcEYg05Rsm6r9e3PDNPpcB5LjgDNb7jjX8qVT\n",
       "BUPqDizyjQek12nM9Eqjt6ShUgCj13kqfYW/VayGt8Enu77ed+qXSk6v+sW74iBpw6UpvXKAfpc+\n",
       "AqKBcmFV+N235XI4weGDmKDiLWB4iCXGYh0oAbibgll0Q6lu56LKgK/ePJPMxrm5gO/avp7szYwA\n",
       "DZgyaza2dkngKwNPyIW/XJmvHW6pdPNCxI+K5/Bvw0Pk/H8648iihumFXyYf4aCLJeIOLt3T8o1V\n",
       "qp50ZrCJAUIHm/MP2NKmy7C6AXYU868kPWjTLjvAA9StCMCe9Df1yC5My5fqFJqaA24If1kGXJgK\n",
       "eNLA8ZXRyyAhXdm74hycPFSzjjVPzedyHCXxdxB8UaIiHoG9uP/9um0rR8sPBaBDGkHd7LLy7EAP\n",
       "ENI0LDUYSAOZALZh9kIEj0tMllMR7Gn2ECClIHw/xmBqHB8py5f7y+/If3kNsuEVAymGMARh4CeV\n",
       "OkM5AAeXC2J4fjzKqnbMTsvZKZAG+DSKjr8P/zUo+WS9wP25Lw6w1fNwOUMknz8FyQmcdp2O1o9a\n",
       "cPWJsYHKdFXFkwervJsstzknnBDgIyK4G7gjKVE67j4+KFucgsnM/dlxG1JnK/70yEu3qvbWadM6\n",
       "PZeFEsFu2fKT5UdgvoRCccm4GSroOL6mcinlq9MABcGMpMcdw+w1bMERXMH+CqhqWEGBQCwXBlly\n",
       "zZZJsDofZOeeOHzHJ8mkKPkFQ29B7wWIIZZpM2N75wIwj/7OtPnuhMFKevQhJEZ0SFvvwZ+D+PxR\n",
       "ICJejw8oX5gzYHGbD3kTkQfU1xjJC6gTs6pxPMLncwVR7Slrw0MF54MmeGhFQp/c7tFRIw7uWYFN\n",
       "x2Q+/uN2+noZJgAAQn2AVcttpwUALq9ysQAAAt5BmmNJ4Q8mUwII//61KoABIG2KzuMnRq1m+c3Q\n",
       "KAksXEn7pYTOXpMQj9cowuWSfFhY+CFmj0FWloqP7h1kWkjKkoE0zgZWkSBIC6e/RBLyiqJF3Rgi\n",
       "xdNsNqd/YI6UNu1vkft7rb3LI3dovsxy7yijCJ4vja1r89xf3nwDfEiLFCtNGes1ih9YFjq8ENpt\n",
       "b1Y5/RpubmNKrl/vCzY5J+pImC5zqAj048TZjd714UQC/it5ijhkHaOfry6mmdhMcT1sagyBlIm9\n",
       "Blv+wZjRNcLr9fxwCdWBMjQgcgBqcRIfwEWv1z/yLpNyCvX5CNJ3Zsj7ygkpwAvymCcXYyvPRtFg\n",
       "j+I542LdCOOFDomKibU39n3hiaqLtbrTb76AA+iVUFI1wc4EKQp2g7/pzPQ9XF08df+b3fCdo9Dr\n",
       "dQY87Z+w/2VuzKYVxP/NJjvVZy3zwORtX1ck/ddI1elvwCer4eHXANM8rn/hE3p/Xv4dJG3PTpbs\n",
       "wwsI9katrito6hNsGtsFswttx507Do8rvxbR/iJvDS6SzGJdvhRjWsBvpMmIz5bJ5G8jR4TDF4iX\n",
       "jTZ7KykFQjG8ToCBgpWjy1YQXrB0GCp4+XDwLPQpDGqBEtxRVft9bJTO4PE3NwMFu4vflOn8Xd2j\n",
       "UqZLVJP9Ef4AastYiV/q6jM9RF7sECNZaUwtWbtcLt30PtZpNESRtH82VzI+25kMLurYh2Yd5Ozz\n",
       "wkHtfiOaBgZ0leQdohsUA4lPLW32QBl/lRhTS3Q7yFfWZHAR3Ts+w9Z+tdMX6TjZACS5hHGIdpRf\n",
       "BEf98Cq99Afxzjfc1aPYNZz2QQ/5jOAmfH+V1WFy1uuZnUv+0m1BFUwfTgG+nJQBd96llAj+Gq2z\n",
       "gBwB4/zQ/qwQcfuSLHIzKdJ0ozjzsOxPKcUW6zvtFV+Or4s00WPSTpSlQ3xMDVwKuJY8ryP9tSuJ\n",
       "2+RC8tLsL3hcbiIpHOdUOGMBA8WMCAAABY5BmodJ4Q8mUwIIf/6qVQAFb8ryADm0fJUjsu17rU6u\n",
       "RAPaf5R/miqsuJ+is+FMZJ5l3zL04HehnjNgH5p1W1eQX9SFKrV6IUEwG/R0gLBNMBREf9dJSWYT\n",
       "5PQ+UsuIBPjTZwqf+hM3aSVe9GFqYlu6PE1bLBcXkFmnbqw1HKwjD9jCvHs5XdVk1xiojuPwdSHl\n",
       "ywf5ouweloOt1IOfvzE0W/GsBxEztqNOVavhKPmlSUercUFFu4iyKAqkPyNkl8SISvj9C4xFxIAw\n",
       "2tVT2FD/YmTsLZAN5hmY4wVLHCH4Ms3Zq/483SBXEl15gV7pPwuPitZcLwI4YBbX2SL0Y20KTlIj\n",
       "RLdvob9EMu9iuS+mhHNa/K9QON5vQ92p6ociOI7+6bSG9IDpvaTh5af++9ELronxZlRx9sHUvMyQ\n",
       "RuaxXxK69v0M9hJAnl1ZoISg5RY9UNJjwPMsYuBffX/WVtbfivmGPQVDmVvDw+zzCSEhgv2wToGv\n",
       "TGJ0SBWuQmQoMX/hPd4nhZFZL/icWm1OSAc1m674lkBG6x6KY+TceNMrbngGhr2jq/fZ4t170AxZ\n",
       "Bc3TV5xJBohfTHRfdMsbJqi+CmMAlRm/pZXDSdG6wAJH7hKaBwwoNw11jAIzH5fx184CAjRBiosz\n",
       "hz5Q2shyaTBfS7hIaLZKGhOl+i1GGKp84EKvW/70zNjAFCb6NQ5rf3KCmxLkB/W8hjfXtyQ6e6gP\n",
       "qc7Y29IOJ6uIE8nxRVxgQfjyp0dx6Ay98BLbV0x9JjWuR2LDkxTABf553RNl8fZUMhMTmmFxEp5a\n",
       "QqxAmJDwNB2UfuxkCBOAUcm+94rVIUyz4tMsVvFvY1QrjX9XTcT1QbECct5TrehTITlkCvp8DAvK\n",
       "R5ybRHW1xZAH1XSoIGcVPpGG56kmyZF4Pqkb835CHTW5hMSRUXJOBrxkbOmMFSLMu8L412fs/dpN\n",
       "2jJeg+KypFpqlZtel/GVkSzP1lmhjTTagU06QlE/5u0fFA0In4dwvpv12UrSzh/kMTGy8z7x99/O\n",
       "GTFgE3uLj6qh8Y910AEu61M7Wu3nV43HBWA9bU3eRYsTsjfbfSiCCkBXQJn6wwG0lcKwl5HdfbIn\n",
       "thxt+dG1UX9ZoVtalCilXHCMwhjWBPn3fkf4SF+mxjjVVFQmmvg/SOj6bQfjP19DJ7b9BsJY0slC\n",
       "8rfRKnC9xdq5vv9hwGeYdqQFnuQsmGMDqoW1DQPa4h2zm7QSPNcdfvjRKLOf1IMUZtrnzmtikLZ7\n",
       "0D7iMMqY/noutlelXoYgRC4tax7Cj3n8/14/nMTL7gOZh5mCdS0N38nLm1q6apeSd8TMuWjnRWrx\n",
       "Fp9LhTgvvgk0LEPU9fUmQuuMHpdBqetcvMChwjI+2u86HqiEgoNWHlirzLRJd+cv+txjSrTGy7wc\n",
       "lmX4EoQHqApxsyis31bpxfRcs0oZhMSGvE9KmCPeaqz2bY29nlKrZYdjyqGQ8VZ4DL7D3VhhzOFr\n",
       "S2dW0gM0hS8MKMl5RmkmBRBa7s41qY4OoqbdvVDfJl0ZQDBj91d2okx+oxcl+4o1tMR+BExMgEdc\n",
       "VnUYe81GgZACcxj1M7it/AcSvwa4XWkdHPdGRVpkIyrd78EHwzck69X0Yp1gOV4mK4eSU+UulEOL\n",
       "Bi3WRSq24xiwpPuOpzhfAavmCARJFwqB75Lq1sr4ElaCaPgU2SmXVDzA5gIHpjB/NcOwBLnCPBrv\n",
       "OVf7zwF75GyQEuv7+HZ04JSY+iwFjkJ1bU8OVGXcqVKPdlcKjhS2gxLY7n3gXLck+JlS1ZpPihc/\n",
       "4Il8Pz1+xAqffmJ5M7xlDkn0Tx1QIX72vrgoEMsVJk4ZGtPoHLjHsWEralZZzMs0tKiQPcJDTATF\n",
       "SiZNM2Y4Dz5bbyvzVfmGzoYFfUToZ8EAAAQeQZ6lRRE8O/8AC1Ywh3Lzev4jABfWhMfc7Esn1L6k\n",
       "AbVjpyaOAd1/r+VXaL/SPXV7HI/p39qwBPgRnOtj//J0T+HMLdE3gdeBSuW/kQoH0P/DRuJ9MRrf\n",
       "NFsW+E9aDxrOReBDSGN5R43LUoEHMmyd9Z8PkU+s4yUlBzzx68sx9xymsI69gWkh5AeLKij2fqJW\n",
       "/+JO6HkD9hspiOLlbYYa90+Rcbt+r7kpbrviEmT24+RYaQAOR5cdzT3+++ij47P4m79NTH4POr1A\n",
       "MOSwoLgvyNyM+EFVWDha2CqWukW9phgdZeFzs65g5Lf77KUdR9+Q3G5oWapKA2soUxsYT8nIzamW\n",
       "6hweAGaYO9Vpjrkw9rAAqJNrp2HG2IBqrUtBIdJU/MjNMQb9c3Us/SfohZexKb25uOJpDef2OQJQ\n",
       "I4k0sEAiD655nhq6cS8fzFuxwSQaCvKpJgLhpWs9i48gYhEk331HUS6Nk+pNCc4ldzSkYnEHWxYZ\n",
       "nLPNoZBa5TvzjZtbKehwOTvorHPnnPj765d/yzWBkDx+9W9EZhgAYXa07C1PhkD38blH62eAjhMW\n",
       "imK2Fjasr9+fRNi7TNSaLa5BDfRfe2STpe2mKxXzE9hA+mOknhyr71E6CtI+YXfz3Nbklcq3aGIC\n",
       "4Rzt0UWCmkjPWytIqzEfYbe6LgzQvEn1Hrtp4ZvbdnOaqjlR4WbODhAh1XE6HBc1FP1XCGWhgO7g\n",
       "3B1yF6geyWhTWicnruxkSIHnjNviI4bvlANHsPsb63OD1IOyYOE1p+XZgZeEbq7A7EbkRdphLNl+\n",
       "sYR7Hg4++BPJsVTGTmOdHSmNovDyhYqMIm8bMm96ctDnSxj9QP03Ly3ugOrLK4NJT63m3Kb2xIgp\n",
       "9j0Fqrfq0FTh/JDgxLYOAmUC/byEVI2uOw3v3sbt8MOD1HH8s9HpoOkwefeE/WjBrUxOOftZUxTS\n",
       "d7TiZJGeaVH5X3SzB9iFdT+Hv5fRPw++iXSZ8I5aI/go/k48Rc2S2PxxRbuUUQ2f1B3WLXkoDKVF\n",
       "BkBeHljSH3yg6cV3flGKzTad5sxWSCab2IjdwSEwm67VA+cEF2mdnOArbcVjISiB0AgxpKgnmFdc\n",
       "wnt2pN1TUOqtPwuzIRM3g9oGtmTMoMw0PWUugukYLtE0Gq3xdyT2MeZJJIXLJJquMgVgHvsq9x3I\n",
       "5QDhiOKBOi4GjrAByyqUmmLOWPn9uFoqA2JsX4s2kpeeWYPMgxwPoBrwuFxUxeOZT83Oj/hPi0us\n",
       "nOd6JGVZIJVvlwOHwvUoGBhkhN8lvKjhm7VxP21P3OJLtxgzHj4NXbLXwVfGuaPGx6v4hsIZwoaJ\n",
       "EdabYYz4eBk+D787uQKShZyT2moH5pspC09stLW2i9DbCTbNodHQdK4Ps/089DQAJJ2+vXbrfQAA\n",
       "AY8BnsR0Q38AD96f+3l832rV81lsWBiTcRdVlbL79yAAQ+159U5d5qmqDHkw0migEafbGMmaT2ZZ\n",
       "48duxVOMjyjR8JyV7WsVMw0h2Pu3CInzGO3a/NCg0giGZrRVhH2GMSuoTmvAsGU3t373zP7K0edN\n",
       "7/PU9WN8agP3JYB1ej45I/Qpq7k+ilg4jjccIhr/4Cf88asIZ8ebnWZTV3Lt84nWHDnnAQq0z/Li\n",
       "V3bVJN6EMxlZoXj6J/vuP2hTQi1kLkqKgmcr9ZP/cmyy8E8xXbuS1uo0GzOSNf2Y4ZEyYh6DlBky\n",
       "2Lgp0BuzwXuWSoFTK1vsNe8wn8+SE7mhy6o8/pBo6Jb6gpybefOYZNxoyzwtisjE684QWTRdUtR8\n",
       "7JKJ7It63PFDn7mzZCzc8utRTi4SOQd6UN/cApYNILC9xBRV8+52P+6YGJGATI89LzqQgAVHAfnC\n",
       "YmvANJ7eS5+2pxJYC8jGvPlNYhecLYkzTiDjZttiVDcuKt/RWQDXFtiqZeRDP4wm0WENiG2AGqOK\n",
       "PmEAAAKcAZ7GakN/AA/hRmNtyAA7S5LurPA1VabnSutXBhid2tbNtZAqTMHfWQACwyN7OPK3/Ym3\n",
       "oQ3fxqR6+dpu7MPhG9xWmlniYoPow3Wb0RsGs85D45lnb6xzvL7S0DPgS4IxBfFvGqQHeTeHbGkR\n",
       "seRpIzkX6/GiC/xacO8Fr6ozkzDYNYbontMG+b2The+bjvwzmThQ+4Lk31QPdyLYfnxYq0jNrJcg\n",
       "xhpuvAQfXpPtqZosqZR1mMQLkZfHgzV3r3N8wte8+2FGr1ihei9F52tAk9AvSi3wm0E+zE7yDpBe\n",
       "TFvl1t4ISOtrIqG8XXv8BO3wDZa7f80PFoKpX70Biv5n3eFsNs+F9B62sTAa99QipSzhsXns9YKq\n",
       "P7BW5D/Q2oLz98VE0lXgFbzLW/xQEBZ85y0WmT7Dacf9YfS3KHv8xc7eHUjEZH6j2W1+3DErxS5k\n",
       "ureRXeh0q47veMor+f3blKUge8wgh/7/UhW8gJfCSwa7WPb360fy7j0Ea5mNANESttOvppP2dVRr\n",
       "SoWrgFpVVVZ6ZeWqtrO3VLKh/RZABnpk5gtxzLMlsnWp9Orr8a60xfoGO7cemyGR1wh8FXcVJh+Q\n",
       "1orhPOSaS7Rw+iwjkLB5eaIJM3XJxaw51Wq/d6CsdZJMpLR6MZbloPd+wHNgQPrvNcdPVl8Y6/Ym\n",
       "M3TGuOHPO6v368Vu448WHaXinL9Pn52eJJ1IlpRFVgqWtbXUQU/0Vsv2Lciez+E+Uiuc9nsXsmwb\n",
       "Kg7mJF0YZFqke8vLG2QRvTIdIM+vtA3vKBVN3W59FaAwcOrTAU+BxOGf01st1IqPKS9Dt/S2n5Eb\n",
       "AATKkx/1VxNelnMfbTaK7xYHwDdfqrLBYw/fVshlYEoY6hhp8SU54MgBIP1Qn4EAAAUdQZrJSahB\n",
       "aJlMFPBD//6qVQAFt76oCXyvWNWeReSpTtxrEsgep/lkP9ZBsS9MBse4ZG1ET3+ZSqcrgiY1GQL+\n",
       "UC/uxM2e+UpVWyzeQ08zVRfP28zmwf5y+qBRHrJzYYGi3DJpNRlw917Fnjpi3/GWHD57WEQAFm5a\n",
       "myeZMKv6N73/HFOGuRQuQWYt/43y9D1QDBLHW+ZgqJmrtDZ9gjHFegV64eeXwqg/KFaIABGndhlB\n",
       "/Z9B8V5qgOg5CXp3ecu5P3iyRm6K4QMSLBbyYXwLugBqlayjp9j1+04J3UvnQyYzoG2orrYakhA5\n",
       "ptnWBa82gzADjVGw/j40Iu8ieqvhnxrsPK7mIT3HV6tWQqaJfeWDDiRh+2SlKaHZ+DHG3m7eOcJs\n",
       "EiI0yZ2i9WgHFObds12FPnQ3TrHWoJk15hotDcIwhp3oMdEbt2c2tJ44Bq1ndKhNMdKDeXGeaGIN\n",
       "YDutIyO3icwv6kko3fFtq6aQgoVcwV+su/vaNwsjbkD14IRYAouBjQq8+cL+ecU5hNJ8bucS+lr9\n",
       "/6gdV0vEb7ki6mqyv/Rrdj4V/2LzGPouYFUEsGtRaVPqoifg2+RjaLcCvyT2GWimTnQK7AYtm8eZ\n",
       "w8mNF4NkNC6aa7Hu6Q3lYdpZiSf8NsPlItdTwFjeoAXgJtfezWAg8z3mq/7yCany6R7bAjGs+mf7\n",
       "DExLHd0dey+8OWlLaKHvyOCPVCPQNlIqt8rolhc9CsQ41mB3vs4o425JSGj2xPUE7EO78oqVJEIL\n",
       "nc7hKGk2B6QoVY5JlEIqyyaeBAznbs+1yRU+VxMxd2T97D26SYZ0Rc7jAf7oKeXL/mndelM/GeH4\n",
       "icHOmGAWeebhFMOOSuy8Fh3KOiqvxUKeasmFpEPO0x9IcivPuO9XlosjXCyjrKDg0RTuqEmRLmeb\n",
       "fuToHTd5AzSaB6O7Us3dDdKzvOtDdJUSBf8g3o+nNhXZEbnVIkg4t+jvvHiN772h8cXi8TbzOULL\n",
       "uDfXoKC2FdlLAWSawIAaZREza6x10DwOplBgyyoNNd6Nh/D50jJEu9uwFYLEbKskCHyCOifxDwd7\n",
       "YYdAUYnJO3p1jJ/ig7qBvMIOCaMt+lY+1ur+SweC9f3VT4VRv0Fyg6DM0DZIg6xq8y3VAM0X9dNc\n",
       "FA/Tgm9c36GBoUhGpR+8OU7mp5d7FJupygC0jJCANtPFMGwNTkLrV2e16zVrWTzjLGcQqheDy2H0\n",
       "BIeHkSu4eKJCAJo3aJOBk0X6yginIE+SY0FdCciWPZ/zgWXICHCMJuaCX4sfhx/+6+GxTLKjpqit\n",
       "gqAMjTRs7KLgr7bzOTp714Snqbpcx0qq4BVafeKvDgMbiLtMeQ600i5Vx/r57KXbDABTfwOKDAZZ\n",
       "tsTBb3Shn5/nsHQytaXIEWSjO+vfZ+aOT+71hrAAThpvh8KT27Y3MEelotty2m6GMxqI/bZyPZk2\n",
       "8NecKzG+ln/moIqF5xnQYEyfejM+xRPtIReQvvMRkKrhXizRhUGe3SV4mA2aOuRPur2FJ7Y6v/3r\n",
       "5AW9ChRWlmpcjg/xJh4eQoeZFbdkfDZS48igmbrOXIk4iWKWH06Y1WH0qdAlA5h0/3K22/0/kLaz\n",
       "Bp+wgTvxufL4bXIo6blE72cT5illieaLQ0nKKGsQYYlk3EJSIr59vaOvkKWGUM1QnGCvAtTzlSWZ\n",
       "+AadfElAz21fFHOv9Bpv8yDrqbLVTuEuzG8ysIEkGF4lpjR3vOvZU65RoN+baduD4AAAAhkBnuhq\n",
       "Q38AD+KV8/kAAGfDi/3M+Rk+i73s/DODVGLaBCPSckpm4slqk+NnnK2SPn38wylZa0HRO4kJ+lWq\n",
       "4066qqt2+kxnJt5ISy/LtUPUumVTWxOvbtPuCHRo6ORZ65L97B66KtzRteGKMSK2oMGzmuEg3pUy\n",
       "gBVCnvAlmlYkzlPv8LePjx2yu1UmNtRJB0PEHGfFTE0M3uZExr6Jk/hDVROS8xFMLEHS5YdB6LXD\n",
       "whvUo9qtSa5/L+3oSorTim4ZqfNdYVfbc3d9E0+L/F7B+OjikGiFRv35bYHmQMqTkr3zhcWXO9fR\n",
       "qSXEQxRYKzrJ6+rK7GzcoOMJfOr3bi2JudATliJlH0pH+Z7ZG4kOjZwnpMEU2ZJAx0mQ/ayis7g2\n",
       "UEVLeimtG1Fhm+Z25Ra+EOWbM46TKh+ZQ3P/hQRndekPbPIwLPxpTluXqwzW3oJ44jA4vE3z7BvB\n",
       "zWtHdK9Zlhlslnpv9WXg+RFr77ZWKI/5dSBfN2D/gE+p5BXoA7Y2Ea/iSHGqBQh5B25+iAsBBjNx\n",
       "Qz/eDtRPnlrtjwfCj4IlwT8nOqFJV8i3lPnszkFzWculSw01PPwSV4qK1nnwyv7qCZIuiALq+BlS\n",
       "J97S7Z4ID49XsWYm0SU7rGiGIYkxSNntgDz63D9ddnipwSJxDJrfzip8eFNR+sYVmbPpAq8BnBqr\n",
       "5MifkVoYXmG6GAC0wTmcDX+EY6AAAATtQZrrSeEKUmUwUsP//qmWABZOc2DvC0EHj4E2X69pWghC\n",
       "mF4DUZv2kCxSj6YgRVj06hvar77Yg3dys2aop3TOtn6+kSjg2mqZXy08GvxOaltd6ozqtYnGCsNc\n",
       "Hk04NBVng2NW1yqf0OadsfyG9CdjcJw/fOrNfOwDl0vy9Za3u4Ty8ajwSuUhzN59a2CzZSV0QsRs\n",
       "kUNPl4QcdvKXdbZwexqidbUTHU9jCpJQaJAc8UyYHCz3qYCLDIFMAh1B31BgJm+tw3oNNDq1Pm73\n",
       "vils6/aAw2MWMhZ/jRlQtIsnjxLzTi3ZAX4ZREpzSGbn2RAcHToEp2AnFsYB8xAUaK0aU2JkHaDi\n",
       "nfpm3lEAjCS8ACJnM5M41bnix6f/rosj3lGyLc6fugGDofCuWAaleHwaBphcvTN8B+A8Db5IXdlW\n",
       "ihTpG+Lzzl75Sl61w/vLBUgr2lnyjzZIfGAhotAmFZe/F/JXuJszhJSNJdDSzpUBNK4ck5vq3khH\n",
       "v95FuCgGve1xfreEm6Ny7bmqEoT7XY27SckKZcc21vcloZgcD8F8weTz99fOpEXp23GIpH7lK9kj\n",
       "FmVFbXPcLllnV8PKK6FwA8brmMh4Po8iFHo/uzDo5bFKaDQLuWLbjzM6bDVza5VDudRDA2gbcQjE\n",
       "JrKinoyk4ziM8bPgpsS6DIBCgdHNFK5YDWU4l+Dsz5zI5HJjYrVn9yH9Wd9+JZQrmNnmGkMOUw6m\n",
       "EcfPXdG8xm6hsig27QCZJHF/mOBJTni6LZLGUqEUmLTiFiKO5XqjMbfz525h/ZmzOlqPSIJYOEo9\n",
       "3G0HN6rSAagRAikHTZEbdZQY/adA5NGqdN6+8uYJpoe53Suzk+tu7q8pFbj3uJXcXgUrJhNiw8Ad\n",
       "N6bYOHewCyR1WP+BIXOV7PQ+CBS0OzmWTK1x9gQB06OMAdmcQbkaoviQW2Jao8l3/DpSRkB6EiZw\n",
       "Xzg++3FPLt4nUz/W/ITD/3M3QF/DgmLo3a7MJzd6mysd4Srvflot9q+KL+ynQDU17qfaczS4UBWX\n",
       "U0prOFg+Kq0nNGE0TYiIQ3SbxldT6ENphaapvWvrw57wKn2FzCohPEPCR98Zqw+QwuqCpXcCCNvt\n",
       "bRNyZYrhYNUmGPBPtJMOH2H7E/aBWZeXUaRftoqtN0p5S9Xec0xnrPcgSzkNMBNfV0jHDo5jV+e7\n",
       "LtiM7IelJKzSFxg+qGiasYWGu/j6ETwyi+QJPvhvF2XCtOUh62fteEaQLFXfQvI0xpYdoJlFQn0S\n",
       "i7/6aZM9XhevLohbmvwQmaMnjOyrAGVdr3lT59YmzqGw5CmkeduiCe6MDV/JOIxx8DV1bs02udTt\n",
       "mdfFjivh13wotg1Bwsunw7eEOY7GZlqGX9MUs2f/gpdfG3oKedpMtPMwh9nTSlrtaVlJysj24qiz\n",
       "1aKDn0rGFtlmQDgadfxFxTuz+mrZUukGckv6zvHIPHtYJWmBmwLwUi19wFseZVF+YNQ98hufop1F\n",
       "1TCAzSDy7/9bnWXdbPxI098IIXA2RDvA8R2S1ewJvU6ojYOiz0alIEuVEv25rbSbbGwNVDLg9AjU\n",
       "AkoXyqiFROl0YJbCxu9pqkBJQ7vCQtjajV0oLxHFaCVViXbI5s4/6LX/FS0+eks5f/Ku7e0irYLy\n",
       "h1jx+jflT60h1t2MfJ8ulxP6TMVlpcUqZrW5wz7LwQAAAQ0BnwpqQ38ADwQLy6uQAXzGdaifDy1r\n",
       "+xACLSad8267yslD7ft8NKgCvV5Tj7wRJwp60SrrOUPbcYIeJZ7JNCbP2RSo/QBHm4afaBtx6TMh\n",
       "fD5YfxorWZi3ggnDYA+qRL1G8OeGglsr90eXZCgY8DmquIJqcnxGUN1d1FldIwoZqw8NASTiP0mt\n",
       "pewUg2UyNhsT+XZH5DmlVNZm51fKJHjylQWuRFxkXZEnYk2ioDlVCKItrP2OOJglPkehn4G5cwQ9\n",
       "vqIBbv9W7QViRfqNNLZqGUmMRTxT9n4lGG7f/iZlbe2kGtVc4Ax4h568hJoDqs9fmdqF1zxEKcbC\n",
       "bRWhV+nQEh201Ws9BuX+XAArYAAAAt1BmwxJ4Q6JlMCCH/6qVQAFt7zsH4JvF/9g2iYTtaA3p75C\n",
       "YIBnwZ3H1VmoXIfn7WdmqP39arglz6Hd9dJg03qT5x8P50qAncGXXB9nJbMvzcmFa3fWSlR914g8\n",
       "N2EFNxNwLJTtan4BU21kYyrUsQUeRfSzUSE6p3hT3fCWX+AMh7Z9s/vXxAfZAcorGr11zyISzue/\n",
       "5dHyT9TYuw3Jx/aQTK469FLBsqnUrog0E0+a6+u1+tSuT3jM/ll2RZH6P65TAUcAE3p+E6jseHqb\n",
       "CkBKtBZmP0buh4Okkkl33JEGBzTITK5i4aNp8KFJIaDTWNXhghSei3Io70ZhSJBuubpOteXAGVsn\n",
       "7t9nflGotDCAVAaV29aWejGaodeglgmaS3M+E69tdQhH2B5cFedQsuARBcZrvLbPOfbgBKXgW/6i\n",
       "oSoAX/9X3geKYHC9OzKCrwGCFIiTbAm0MphY47MGMNeep+6tnDslaqbJXTbT8tQdMNVedRHs645R\n",
       "XHzcQsh8GiOY/12TwUEnqbwxJAZZoqLnSH5c8ebP5BtJqdwVKGjurAEaIjuCT60uuJHTnJycttPK\n",
       "FNqe+u59LfvwhTerY8KkS1yoqkJqWnrMjLO+TdqgZb4/r8wSUbBtpHcaSXhycLa9sRzAFf4AjkKZ\n",
       "zxiCt+RH2L/0qxhie9cRkXlVwahbf1FazkOXDN1UJGkLMZw2FJB6e5t9+x7pB8y2iJI82NtUbrhm\n",
       "4jfMjuBRlUE+iWL2xfx5B6rJ6+kJQprWpGKtWIPyPbVGkk9q0I7pnzWVNEIB8jiudIE3Ys1/rDEy\n",
       "LN5dp96qZyGLOMUfz7N244FfsOzQg71akRoYxw1Xf+Fzbtf0GWxyChV2pPGC4WLNGvzzsGObWRNv\n",
       "qPpvgyoG7MJuw2Jn6gQOfEOVkUCxkNn0K+k15zamULrjqD1fBX8n+HzwR87XmZonnxoHNxKYkpFA\n",
       "tgh3Y7r0Mc4emfA+ACpgAAACBUGbLUnhDyZTAgh//qpVAAW3vOwfa9xjlim60M4xWfd3A8H73iFz\n",
       "4MPKClRX9I4MWpWIsfzOFe8xnKHbb6HAErx1BhmXQGEJqSwwHdff/XSc7zrigpRCDS06ioLhHgco\n",
       "xqwhVeWZCNI0MrphTmj2bNAa/PCKmASwUbHPf+Jb4bg+jJ0jgTbD0EPFPdaDyRs7nGpfBJVQ55AI\n",
       "4QA0UEjM3E0qH/SkylKxe5c7JBsXJOe+W1IUEU8SL5ZN1N+2szTPOvIFqFM/gIU4GeP9NWp51CsM\n",
       "2Q3UM4kteOMB0EmstV/oQpFPu/X+OkvskuhdhJaEKThzeu9+YC8o6gc0BWybd+t8XGR3taWBIJRw\n",
       "XKbxYVFEd53r2BLSMTxhXwyNNEVSvAxWOOBxQsBm6l/njRXiQDkXx6+EPOvCuqWe2EKLrBVmu4Lh\n",
       "mLs+bj/fmj2qgHX2F3gNTkvUrUV/lU6KipWVEGDZDaBKaONwoktQfaGmIIRU+kuYDEaGPT47XNNT\n",
       "lyUvY3AqBn3TAlNNnerKvKpbn/CDbC4gL+iUhZeRQSRhEzjnDyj9nd9b83dFWEneiT5YwVCmy5rL\n",
       "5Pc/L7NBuLrYyDvzUsCxgM+X7Zoabyt2PNRAfqwnnogG0oACGJ2BHgFVSbZ1TRPxct6c6IHLKLJi\n",
       "T4DZhPDGCyASI2KZRN96SrDjS8IAIeEAAAGrQZtOSeEPJlMCCP/+tSqABbiZmAEZ1Qjq5bclRUkC\n",
       "Xgm4cM7/VWqEBCWOcJm6DAT5w2fhPzxWlY/dI2AsxM6qC5DmnOzd4+HvgyVcKSXKWkoRwoV4/Cw4\n",
       "U4cyRQuQF+rkzaHSzwvzhmlSaoLfah+Pxmsozx1QdgINvpQzK1xuxNknHbvyTSmSMOunHKvT98Eh\n",
       "YMNEMuUN2b6r+00VmfEtNxHVP2Sp6hRhRiWiXMlg218Bsr+E4/uupioDLlhFADQpD3IW3rvfaPq+\n",
       "vEJcgf8nNK70N87ENDhXEsUJ/biqIqrdOW6iMYlkcJzEQMNGsqOmCEwnlhOTE8CL0Q1tArcEu92X\n",
       "c8OTRRqTxtecCPcomBh8lpzFnb4D0i4j8PY1I5bs8BRVVsuoRkufO4/ayCHF3WeR30Pyv9Wd65gx\n",
       "jQj4rNgC5pd7Sr93ul0CmlDTmBNJXbGzQZW1JyOAtfChWmNBXStcpIo9eOS5UigcsybVYFy71Y+l\n",
       "u75LWC2Nsi9USmjqThpBtYDk5kdQ769y/w0bTX/iA3bHSpsHyKqQcTDzgjRmKVclW9ydoAAj4QAA\n",
       "AZhBm3BJ4Q8mUwURPBH//rUqgALcTMwEbSyh4ZoIDIwq63dcdr9IwghPyX1W/QARzN5vGZ9sGX95\n",
       "Hcq+H7A6t2Dy/YIae1KPePZYOHwvSiWOwUrf+YItJqP1iABySCagWZqfVkByMpBE76OfVPgGWHMG\n",
       "FJ7ReI1MDB5TVb+NsBqY63m1vueXjpwu8Npo0nYfexrVE4StzWNbNsxDd2p0Zdf2ZgFXpmWgRF1Z\n",
       "/yj0gaWawLs40JF/fm5zwAmMYsLxkbm5paNL88sQPGJ/antR4OfUDk6avcOQYAeHr895CHJQANDX\n",
       "I4pu352T80Pd9dhn6ESxg/DgjtdaktfaBtJGmE+uNcuyhvyscYXekR5JO1/VimXqQkejmgljCLL+\n",
       "RJ8P7N7DTtBTOfaIDE4AT1boL03OThft2tTOxf0iDPFAFqtocOZceQ7UwUAxPIwTs0BrPBZqrY8P\n",
       "Og7ZVykZEXWJcHB6CHeliw1i0iPuxuN4u5GnIbmMdal91PW+1gArRnfq9yNzlzv1WcYcWtm8dI0i\n",
       "TGWa/mg/NQAA9IEAAAATAZ+PakN/AA7XcCWL4SHMTAAD5gAAAcVBm5RJ4Q8mUwII//61KoAFuKf2\n",
       "gBEyLgcKfaUwNP0XDi0xfwNM4YVQ+0wWMfDO6ODZ0QxKilGfusVFLDkw8GPJYP2KOJT5xhf5//hu\n",
       "cRhK4KEu0CjD0lKhTLAO3qfMtyhds2sbeItoqiD/KCQ9nMndKMNzbeA+9MegvEp3JSCP39zgllYK\n",
       "WhTB33lVTCywQBK/tk8p5N74lu2nZejUOrtttwPjaCG0mIpcnQZ1kZfDkRHXwJiLGZSgaGCOqdb4\n",
       "GuyR/UsEgadtNXlS/BDktV7M3TCKS4gIyzOB3PB2bqM0TjZSCugb2SSpBPaAibr3L8jDBS1dS4/y\n",
       "vKREW/eEqZszyEK33CPbuRpRuaDdbclxYi6KHkS2+pIqlzHywZKP5iYBgObQaQ51tEoygoJOB2uD\n",
       "4Vfex8MGqdUi2R0DNf1fRWUNtEhJK+dsvHE3ra1W+yRgPcHGmWd8WSTi/50EajXAr3+ID+JU4wVK\n",
       "OSwtnk6Yl68bnVjBDkohkpaJZc5gAMvVBm637+RkKBQVMLFkUagEm30MSo1aMllXgvSSSuyUo+hD\n",
       "AQ3Q4eWVAjia1T432FNDkUUGFRSE6CiTK0vf9VWvP9sABHwAAAA2QZ+yRRE8O/8AC1YwXyiJIjoL\n",
       "xNjXvZUfKmZp9rdXgB8K/KNkY5+enKuLahtgNkATKugZgmOBAAAAIQGf0XRDfwAP3p4yNFPwJF15\n",
       "spgHn3q+RcIIEACJ+UfigAAAACEBn9NqQ38AD+FEL4QdLSkIqgiYlszxEKZwggQAIX5h+KAAAAGJ\n",
       "QZvYSahBaJlMCCP//rUqgALdpUdIwABuDEiwSAgsU4XT6pVJFzPi0D4YpsLLoaMMU2UnlwmN7xMR\n",
       "U4cG9AegbjuhPW4oom9XiSTFwfbvTWToKbdfbhzDE9Bz0ypyk/JmQ6UvzrQy4tsDb52bKeJOdOuD\n",
       "3jfVRrOdGCw1vFWnhR6gy85u6cdTYlwEiv7iNEv5w1x60TgrlGFRnalK35cAhGvGnm0qjIG9l3vT\n",
       "pp1Xd0Rx6kMlwSMhi5MXnjB0jngrBkKDTbajIimAmuyHkzB9s1hp1MWGkVsj4SqbbfKvdsvftrW0\n",
       "mR2u+dvdsEPVztWVJE3n8OzCyzQrvDjJkcQuehone8MgUpvwvAogkrEaqT/wfLBsxvdtEuCyg4AK\n",
       "5X8+JE6pmFsPADD3HxOWlC2SwceXnNxf0f0x5j1F0hWImLl65bME6YLJ3udSmceVXNi0F+Kd5S6W\n",
       "A4fmkngzzIDFFT+ckdsKaMZq7fZUjjE0hjd9DmBb2hQew0JApgQlO0qdQaGPPJq+ABDxAAAAJEGf\n",
       "9kURLDv/AAtzhgrjDMsoABNCclU2OKDGWBwuQAIH9RVnQAAAAB8BnhV0Q38AD96eL3RVGhonDJYZ\n",
       "1tuY0AtMoAJOSnQzAAAAHwGeF2pDfwAP4UQXtbUyM6IyciVK9kQUXIACf1Q/74EAAAFsQZocSahB\n",
       "bJlMCCP//rUqgAW4mr0ALMnPkeZifz0Y8PFQaCUXXOf2o+RuN3stdzwG2dy6VlbCdekPMLiRIj62\n",
       "6Y8u8jmkCIrNtvG5I78ikyfPbeuOXVK19yFKNZtu+cUt331QJLwtBYBRssYzvxBCcFdoVC6tYAAZ\n",
       "RtO+vkapCIHakBaJC8wzvX10obzq0sF69eENcj8FjPkJdqkW9864Jwh/Atx1z+Jwve4QQUaSuguY\n",
       "OpNAI6ubcTO6uUgPtEabs1XkF9DW4eUd5HmW2RKvRXVpkLAx14YcpAtrxu8PW/ZA6uewOA/nRptn\n",
       "pl1I7PvnyoK4ps3p683EqgCiaSGIY4ZM0RwUFdLI1tWMseb3EpO8cWFCTYzCzyXoyzYIrsDwErzN\n",
       "3sNY2lfc+4T2itds3aj+QIYCTAo8TtTDDWK8ozWJd7WHNc+DJHxCW28V+xGkMQCKFRx7nPp0bwaO\n",
       "YNBeLlQ8heu/VvedYADegAAAACJBnjpFFSw7/wALc4YHUYXf9H/cK1oOfUsEB5CAAE0DY8ZtAAAA\n",
       "HgGeWXRDfwAP3p4XrLoAGducQqz02RBrJgAKvXhwnAAAAB4BnltqQ38AD+FEF7WjkfB2m9voxmGB\n",
       "YRQAHZD0v/kAAAExQZpASahBbJlMCCH//qpVAAtvedgBYAHZyVGsHblt+DkT1oj/6rXb5DVfnB6n\n",
       "JdGlg0KH0tgKV5ZvL6nuATyfjR2XqoGVrhvvNwfv2/B/lJAUWt0/pPZYK8hqeTON14ZcWq5Vu0uf\n",
       "S9G22gKEN8lFuO6utSeaTn+fEi+CQvmgeO7dwlHiXXlU4cr+WJOonHfTiyTw91W+92Bl/cYmlLvC\n",
       "it9Qru60L2DIQCd2sWXOvteZDHqYM80bdi11fmPbAQnpdAGlfRiBnwFnX2/T+JQHmv1Lidb+nVM8\n",
       "/+siviRG5YlpR1i4sEkln7/SJGFsC4I2cAgqUGO7ctcsnm5eb0xK/cTjTDt4+zjlUVFi790Rc0le\n",
       "sUPvLtKIGGGBLSgdVb5QYwFsinaAJmLtVD8PHUwASMEAAAAkQZ5+RRUsO/8AC3OGCuV2ZeeHPz4E\n",
       "Fz2+P5zYcDDEgASvB825AAAAHwGenXRDfwAP3p4XrJqb0fGBC8m1I3ihaYgARQYd/SAAAAAgAZ6f\n",
       "akN/AA/hRC+EHS0PoYO9wnEPRFoiBjkQATPpzMMAAADiQZqESahBbJlMCH///qmWABXFhMSGOAEu\n",
       "YSszyoLEp9aFWw+Rb/0GKYOaNhhSMdzD4FaTpGnk0XjdhSzk36r/8mK3xDx3bkvlDLyxEeC6r3ii\n",
       "50/6OIy6AShKCwyLEdtG9IvhARTWUHe9k5wbMoiU+qfGvqf6jIXaX/39WrUMg+2IJ9bsZ1arbaWj\n",
       "7Em6gF9/yuVAwaKTSF71wAuIdlydY9P5iokpWjzug3vCbloZYw5B7QUSLrd29Mai4r4eAL618wz5\n",
       "YEHfY3tbqBkoH3Z9LvEX4ecr2jyouDeK7gWLYACHgAAAACRBnqJFFSw7/wALc4YK5KsywQx/kw2+\n",
       "4lEtHJt4LriAA8ci2DUAAAAkAZ7BdEN/AA/enjdRv6tKGSkGToFStxvgmn86QEbiAByU+GnAAAAA\n",
       "IAGew2pDfwAP4UQvhB0tD6GDvcJxD0RaIgY5EAEz6czDAAAATkGax0moQWyZTAhv//6nhABYd8Og\n",
       "AOzP/6seK/HObz1rBUNO+kAIhNkpQE0h36+2uKZA9wp7/ALBBkxz6ZTy1q1BoDtduSfPHd2cOgAM\n",
       "WQAAACZBnuVFFSw3/wAfDuFvW0+C2vSpaoA+cDeFFRCf1w04YAHYHxvGgQAAACABnwZqQ38AD+FE\n",
       "L4QdLQ+hg73CcQ9EWiIGORABM+nMwwAABN9tb292AAAAbG12aGQAAAAAAAAAAAAAAAAAAAPoAAAP\n",
       "oAABAAABAAAAAAAAAAAAAAAAAQAAAAAAAAAAAAAAAAAAAAEAAAAAAAAAAAAAAAAAAEAAAAAAAAAA\n",
       "AAAAAAAAAAAAAAAAAAAAAAAAAAAAAAACAAAECXRyYWsAAABcdGtoZAAAAAMAAAAAAAAAAAAAAAEA\n",
       "AAAAAAAPoAAAAAAAAAAAAAAAAAAAAAAAAQAAAAAAAAAAAAAAAAAAAAEAAAAAAAAAAAAAAAAAAEAA\n",
       "AAAB9AAAAZAAAAAAACRlZHRzAAAAHGVsc3QAAAAAAAAAAQAAD6AAAAgAAAEAAAAAA4FtZGlhAAAA\n",
       "IG1kaGQAAAAAAAAAAAAAAAAAACgAAACgAFXEAAAAAAAtaGRscgAAAAAAAAAAdmlkZQAAAAAAAAAA\n",
       "AAAAAFZpZGVvSGFuZGxlcgAAAAMsbWluZgAAABR2bWhkAAAAAQAAAAAAAAAAAAAAJGRpbmYAAAAc\n",
       "ZHJlZgAAAAAAAAABAAAADHVybCAAAAABAAAC7HN0YmwAAAC0c3RzZAAAAAAAAAABAAAApGF2YzEA\n",
       "AAAAAAAAAQAAAAAAAAAAAAAAAAAAAAAB9AGQAEgAAABIAAAAAAAAAAEAAAAAAAAAAAAAAAAAAAAA\n",
       "AAAAAAAAAAAAAAAAAAAAAAAY//8AAAAyYXZjQwFkABb/4QAZZ2QAFqzZQIAz5+EAAAMAAQAAAwAU\n",
       "DxYtlgEABmjr48siwAAAABx1dWlka2hA8l8kT8W6OaUbzwMj8wAAAAAAAAAYc3R0cwAAAAAAAAAB\n",
       "AAAAKAAABAAAAAAUc3RzcwAAAAAAAAABAAAAAQAAASBjdHRzAAAAAAAAACIAAAAEAAAIAAAAAAEA\n",
       "ABQAAAAAAQAACAAAAAABAAAAAAAAAAEAAAQAAAAAAQAADAAAAAABAAAEAAAAAAEAAAwAAAAAAQAA\n",
       "BAAAAAADAAAIAAAAAAEAAAwAAAAAAQAABAAAAAABAAAUAAAAAAEAAAgAAAAAAQAAAAAAAAABAAAE\n",
       "AAAAAAEAABQAAAAAAQAACAAAAAABAAAAAAAAAAEAAAQAAAAAAQAAFAAAAAABAAAIAAAAAAEAAAAA\n",
       "AAAAAQAABAAAAAABAAAUAAAAAAEAAAgAAAAAAQAAAAAAAAABAAAEAAAAAAEAABQAAAAAAQAACAAA\n",
       "AAABAAAAAAAAAAEAAAQAAAAAAQAAEAAAAAACAAAEAAAAABxzdHNjAAAAAAAAAAEAAAABAAAAKAAA\n",
       "AAEAAAC0c3RzegAAAAAAAAAAAAAAKAAAGGYAAAPqAAAEkQAAAuIAAAWSAAAEIgAAAZMAAAKgAAAF\n",
       "IQAAAh0AAATxAAABEQAAAuEAAAIJAAABrwAAAZwAAAAXAAAByQAAADoAAAAlAAAAJQAAAY0AAAAo\n",
       "AAAAIwAAACMAAAFwAAAAJgAAACIAAAAiAAABNQAAACgAAAAjAAAAJAAAAOYAAAAoAAAAKAAAACQA\n",
       "AABSAAAAKgAAACQAAAAUc3RjbwAAAAAAAAABAAAALAAAAGJ1ZHRhAAAAWm1ldGEAAAAAAAAAIWhk\n",
       "bHIAAAAAAAAAAG1kaXJhcHBsAAAAAAAAAAAAAAAALWlsc3QAAAAlqXRvbwAAAB1kYXRhAAAAAQAA\n",
       "AABMYXZmNTcuNTYuMTAx\n",
       "\">\n",
       "  Your browser does not support the video tag.\n",
       "</video>"
      ],
      "text/plain": [
       "<matplotlib.animation.FuncAnimation at 0x10e066bd0>"
      ]
     },
     "execution_count": 52,
     "metadata": {},
     "output_type": "execute_result"
    }
   ],
   "source": [
    "fig = plt.figure(dpi=100, figsize=(5, 4))\n",
    "plt.scatter(x, y)\n",
    "line, = plt.plot(x, lin(a_guess, b_guess, x))\n",
    "plt.close()\n",
    "\n",
    "def animate(i):\n",
    "    line.set_ydata(lin(a_guess, b_guess, x))\n",
    "    for i in range(20): upd()\n",
    "    return line,\n",
    "\n",
    "ani = animation.FuncAnimation(fig, animate, np.arange(0, 40), interval=100)\n",
    "ani"
   ]
  },
  {
   "cell_type": "code",
   "execution_count": 53,
   "metadata": {
    "collapsed": false
   },
   "outputs": [
    {
     "data": {
      "text/plain": [
       "2.9325"
      ]
     },
     "execution_count": 53,
     "metadata": {},
     "output_type": "execute_result"
    }
   ],
   "source": [
    "a_guess"
   ]
  },
  {
   "cell_type": "code",
   "execution_count": 54,
   "metadata": {
    "collapsed": false
   },
   "outputs": [
    {
     "data": {
      "text/plain": [
       "8.0353"
      ]
     },
     "execution_count": 54,
     "metadata": {},
     "output_type": "execute_result"
    }
   ],
   "source": [
    "b_guess"
   ]
  },
  {
   "cell_type": "code",
   "execution_count": null,
   "metadata": {
    "collapsed": true
   },
   "outputs": [],
   "source": []
  }
 ],
 "metadata": {
  "anaconda-cloud": {},
  "kernelspec": {
   "display_name": "Python [default]",
   "language": "python",
   "name": "python2"
  },
  "language_info": {
   "codemirror_mode": {
    "name": "ipython",
    "version": 2
   },
   "file_extension": ".py",
   "mimetype": "text/x-python",
   "name": "python",
   "nbconvert_exporter": "python",
   "pygments_lexer": "ipython2",
   "version": "2.7.12"
  }
 },
 "nbformat": 4,
 "nbformat_minor": 1
}
